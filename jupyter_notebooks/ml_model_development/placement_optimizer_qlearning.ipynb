{
 "cells": [
  {
   "cell_type": "markdown",
   "metadata": {},
   "source": [
    "# Q-Learning Placement Optimizer - Week 6\n",
    "## HYDATIS DQN Agent for Optimal Pod Placement\n",
    "\n",
    "**Objective**: Develop Q-Learning agent achieving +34% improvement over random placement\n",
    "\n",
    "**Success Criteria**:\n",
    "- DQN agent with PyTorch implementation\n",
    "- Multi-objective reward function\n",
    "- Experience replay with 50,000 buffer\n",
    "- Target improvement: ≥34% vs random baseline"
   ]
  },
  {
   "cell_type": "code",
   "execution_count": null,
   "metadata": {},
   "outputs": [],
   "source": [
    "# Import Q-Learning implementation\n",
    "import sys\n",
    "sys.path.append('/home/jovyan/work/src')\n",
    "\n",
    "from ml_models.qlearning.agent import HYDATISDQNAgent, HYDATISPlacementDQN\n",
    "from ml_models.qlearning.environment import ClusterEnvironment\n",
    "import torch\n",
    "import numpy as np\n",
    "import pandas as pd\n",
    "import matplotlib.pyplot as plt\n",
    "\n",
    "print(\"✅ Q-Learning modules imported\")\n",
    "print(f\"PyTorch version: {torch.__version__}\")\n",
    "print(f\"Device available: {torch.device('cuda' if torch.cuda.is_available() else 'cpu')}\")"
   ]
  },
  {
   "cell_type": "code",
   "execution_count": null,
   "metadata": {},
   "outputs": [],
   "source": [
    "# Setup HYDATIS cluster configuration\n",
    "cluster_config = {\n",
    "    'nodes': 6,\n",
    "    'masters': 3,\n",
    "    'workers': 3,\n",
    "    'cpu_cores_per_node': 8,\n",
    "    'memory_gb_per_node': 16,\n",
    "    'worker_nodes': ['worker-1', 'worker-2', 'worker-3'],\n",
    "    'master_nodes': ['master-1', 'master-2', 'master-3']\n",
    "}\n",
    "\n",
    "# Initialize DQN placement optimizer\n",
    "dqn_placement = HYDATISPlacementDQN(cluster_config)\n",
    "\n",
    "print(f\"🧠 DQN Agent initialized:\")\n",
    "print(f\"   State size: {dqn_placement.state_size}\")\n",
    "print(f\"   Action size: {dqn_placement.action_size}\")\n",
    "print(f\"   Target improvement: {dqn_placement.target_improvement:.1%}\")\n",
    "print(f\"   Network parameters: {sum(p.numel() for p in dqn_placement.agent.q_network.parameters()):,}\")"
   ]
  },
  {
   "cell_type": "code",
   "execution_count": null,
   "metadata": {},
   "outputs": [],
   "source": [
    "# Test placement decision\n",
    "sample_cluster_state = np.random.uniform(0.1, 0.8, dqn_placement.state_size)\n",
    "sample_pod_requirements = {'cpu_request': 0.2, 'memory_request': 0.3}\n",
    "\n",
    "action, decision = dqn_placement.select_placement_node(\n",
    "    sample_cluster_state, \n",
    "    sample_pod_requirements,\n",
    "    training=False\n",
    ")\n",
    "\n",
    "print(\"🎯 Sample Placement Decision:\")\n",
    "print(f\"   Selected node: {decision['selected_node']}\")\n",
    "print(f\"   Placement quality: {decision['placement_quality']['overall_quality']:.3f}\")\n",
    "print(f\"   Decision confidence: {decision['decision_confidence']:.3f}\")\n",
    "print(f\"   Exploration factor: {decision['exploration_factor']:.3f}\")\n",
    "\n",
    "# Show Q-values for all nodes\n",
    "print(\"\\n📊 Q-Values by Node:\")\n",
    "for i, (node, q_val) in enumerate(zip(cluster_config['worker_nodes'], decision['q_values'])):\n",
    "    print(f\"   {node}: {q_val:.4f}{'  ← SELECTED' if i == action else ''}\")"
   ]
  },
  {
   "cell_type": "code",
   "execution_count": null,
   "metadata": {},
   "outputs": [],
   "source": [
    "# Get detailed placement insights\n",
    "insights = dqn_placement.get_placement_insights(sample_cluster_state)\n",
    "\n",
    "print(\"🔍 Detailed Placement Analysis:\")\n",
    "print(f\"   Recommended node: {insights['recommended_node']}\")\n",
    "print(f\"   Confidence score: {insights['confidence_score']:.3f}\")\n",
    "\n",
    "print(\"\\n📈 Cluster Utilization:\")\n",
    "util = insights['cluster_utilization']\n",
    "print(f\"   Average CPU: {util['average_cpu']:.1%}\")\n",
    "print(f\"   Average Memory: {util['average_memory']:.1%}\")\n",
    "print(f\"   CPU variance: {util['cpu_variance']:.4f}\")\n",
    "\n",
    "print(\"\\n🏆 Node Rankings:\")\n",
    "for rank, node_info in enumerate(insights['node_rankings'][:3], 1):\n",
    "    print(f\"   {rank}. {node_info['node']}: Q={node_info['q_value']:.3f}, \"\n",
    "          f\"CPU={node_info['cpu_load']:.1%}, Mem={node_info['memory_load']:.1%}\")"
   ]
  }
 ],
 "metadata": {
  "kernelspec": {
   "display_name": "Python 3",
   "language": "python",
   "name": "python3"
  },
  "language_info": {
   "codemirror_mode": {"name": "ipython", "version": 3},
   "file_extension": ".py",
   "mimetype": "text/x-python",
   "name": "python",
   "nbconvert_exporter": "python",
   "pygments_lexer": "ipython3",
   "version": "3.11.0"
  }
 },
 "nbformat": 4,
 "nbformat_minor": 4
}