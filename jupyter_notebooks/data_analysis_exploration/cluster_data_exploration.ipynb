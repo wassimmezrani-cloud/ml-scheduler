{
  "cells": [
    {
      "cell_type": "markdown",
      "metadata": {},
      "source": [
        "# HYDATIS Cluster Data Exploration\n",
        "\n",
        "Initial exploratory data analysis of the HYDATIS cluster metrics for ML scheduler development.\n",
        "\n",
        "## Objectives\n",
        "- Analyze 30 days of historical cluster metrics\n",
        "- Understand node utilization patterns\n",
        "- Identify scheduling bottlenecks\n",
        "- Establish baseline performance metrics"
      ]
    },
    {
      "cell_type": "code",
      "execution_count": null,
      "metadata": {},
      "outputs": [],
      "source": [
        "import pandas as pd\n",
        "import numpy as np\n",
        "import matplotlib.pyplot as plt\n",
        "import seaborn as sns\n",
        "from datetime import datetime, timedelta\n",
        "import warnings\n",
        "warnings.filterwarnings('ignore')\n",
        "\n",
        "import sys\n",
        "sys.path.append('/home/jovyan/work/src')\n",
        "from data_collection.prometheus_collector import PrometheusCollector\n",
        "from data_collection.data_processor import DataProcessor\n",
        "\n",
        "plt.style.use('seaborn-v0_8')\n",
        "sns.set_palette('husl')\n",
        "\n",
        "print(\"HYDATIS Cluster Analysis - Week 2\")\n",
        "print(f\"Analysis Date: {datetime.now()}\")"
      ]
    },
    {
      "cell_type": "markdown",
      "metadata": {},
      "source": [
        "## 1. Data Collection Setup"
      ]
    },
    {
      "cell_type": "code",
      "execution_count": null,
      "metadata": {},
      "outputs": [],
      "source": [
        "# Initialize collectors with HYDATIS cluster configuration\n",
        "collector = PrometheusCollector(prometheus_url=\"http://10.110.190.83:9090\")\n",
        "processor = DataProcessor()\n",
        "\n",
        "# Define analysis period - last 30 days\n",
        "end_time = datetime.now()\n",
        "start_time = end_time - timedelta(days=30)\n",
        "\n",
        "print(f\"Collecting data from {start_time} to {end_time}\")\n",
        "print(f\"Analysis period: {(end_time - start_time).days} days\")"
      ]
    },
    {
      "cell_type": "markdown",
      "metadata": {},
      "source": [
        "## 2. Node Resource Analysis"
      ]
    },
    {
      "cell_type": "code",
      "execution_count": null,
      "metadata": {},
      "outputs": [],
      "source": [
        "# Collect node metrics for HYDATIS 6-node cluster\n",
        "print(\"Collecting node metrics...\")\n",
        "node_metrics = collector.collect_node_metrics(start_time, end_time)\n",
        "\n",
        "if 'cpu_usage' in node_metrics:\n",
        "    cpu_df = node_metrics['cpu_usage']\n",
        "    print(f\"CPU data points collected: {len(cpu_df)}\")\n",
        "    print(f\"Nodes analyzed: {cpu_df['instance'].nunique()}\")\n",
        "    \n",
        "    # Node CPU utilization summary\n",
        "    cpu_summary = cpu_df.groupby('instance')['value'].agg([\n",
        "        ('avg_cpu', 'mean'),\n",
        "        ('max_cpu', 'max'),\n",
        "        ('min_cpu', 'min'),\n",
        "        ('std_cpu', 'std')\n",
        "    ]).round(3)\n",
        "    \n",
        "    print(\"\\nNode CPU Utilization Summary:\")\n",
        "    print(cpu_summary)\n",
        "else:\n",
        "    print(\"No CPU metrics collected\")"
      ]
    },
    {
      "cell_type": "code",
      "execution_count": null,
      "metadata": {},
      "outputs": [],
      "source": [
        "# Memory analysis\n",
        "if 'memory_usage' in node_metrics:\n",
        "    memory_df = node_metrics['memory_usage']\n",
        "    \n",
        "    # Convert to percentage\n",
        "    memory_df['memory_pct'] = memory_df['value'] * 100\n",
        "    \n",
        "    memory_summary = memory_df.groupby('instance')['memory_pct'].agg([\n",
        "        ('avg_memory', 'mean'),\n",
        "        ('max_memory', 'max'),\n",
        "        ('min_memory', 'min')\n",
        "    ]).round(2)\n",
        "    \n",
        "    print(\"\\nNode Memory Utilization Summary (%):\")\n",
        "    print(memory_summary)\n",
        "    \n",
        "    # Expected vs Actual (from cluster audit: workers 36-43% memory)\n",
        "    expected_memory_range = (36, 43)\n",
        "    actual_avg = memory_summary['avg_memory'].mean()\n",
        "    print(f\"\\nExpected memory range: {expected_memory_range[0]}-{expected_memory_range[1]}%\")\n",
        "    print(f\"Actual average: {actual_avg:.1f}%\")"
      ]
    },
    {
      "cell_type": "markdown",
      "metadata": {},
      "source": [
        "## 3. Cluster Load Patterns"
      ]
    },
    {
      "cell_type": "code",
      "execution_count": null,
      "metadata": {},
      "outputs": [],
      "source": [
        "# Analyze temporal patterns\n",
        "if 'cpu_usage' in node_metrics and not cpu_df.empty:\n",
        "    # Hourly patterns\n",
        "    cpu_df['hour'] = cpu_df['timestamp'].dt.hour\n",
        "    cpu_df['day_of_week'] = cpu_df['timestamp'].dt.dayofweek\n",
        "    \n",
        "    hourly_pattern = cpu_df.groupby('hour')['value'].mean()\n",
        "    daily_pattern = cpu_df.groupby('day_of_week')['value'].mean()\n",
        "    \n",
        "    print(\"Hourly CPU Usage Pattern:\")\n",
        "    for hour, usage in hourly_pattern.items():\n",
        "        print(f\"{hour:02d}:00 - {usage:.3f}\")\n",
        "    \n",
        "    print(\"\\nDaily CPU Usage Pattern:\")\n",
        "    days = ['Mon', 'Tue', 'Wed', 'Thu', 'Fri', 'Sat', 'Sun']\n",
        "    for day_idx, usage in daily_pattern.items():\n",
        "        print(f\"{days[day_idx]} - {usage:.3f}\")"
      ]
    },
    {
      "cell_type": "markdown",
      "metadata": {},
      "source": [
        "## 4. Scheduler Performance Analysis"
      ]
    },
    {
      "cell_type": "code",
      "execution_count": null,
      "metadata": {},
      "outputs": [],
      "source": [
        "# Collect scheduler metrics\n",
        "print(\"Collecting scheduler performance metrics...\")\n",
        "scheduler_metrics = collector.collect_scheduler_metrics(start_time, end_time)\n",
        "\n",
        "if 'scheduling_duration' in scheduler_metrics:\n",
        "    sched_df = scheduler_metrics['scheduling_duration']\n",
        "    \n",
        "    if not sched_df.empty:\n",
        "        avg_latency = sched_df['value'].mean() * 1000  # Convert to ms\n",
        "        p95_latency = sched_df['value'].quantile(0.95) * 1000\n",
        "        p99_latency = sched_df['value'].quantile(0.99) * 1000\n",
        "        \n",
        "        print(f\"\\nScheduling Latency Analysis:\")\n",
        "        print(f\"Average: {avg_latency:.2f}ms\")\n",
        "        print(f\"P95: {p95_latency:.2f}ms\")\n",
        "        print(f\"P99: {p99_latency:.2f}ms\")\n",
        "        print(f\"Target: <100ms P99 (Current: {'✓' if p99_latency < 100 else '✗'})\")\n",
        "    else:\n",
        "        print(\"No scheduling duration data available\")\n",
        "\n",
        "if 'pending_pods' in scheduler_metrics:\n",
        "    pending_df = scheduler_metrics['pending_pods']\n",
        "    if not pending_df.empty:\n",
        "        avg_pending = pending_df['value'].mean()\n",
        "        max_pending = pending_df['value'].max()\n",
        "        print(f\"\\nPod Queuing Analysis:\")\n",
        "        print(f\"Average pending pods: {avg_pending:.2f}\")\n",
        "        print(f\"Maximum pending pods: {max_pending:.0f}\")"
      ]
    },
    {
      "cell_type": "markdown",
      "metadata": {},
      "source": [
        "## 5. Baseline Performance Metrics"
      ]
    },
    {
      "cell_type": "code",
      "execution_count": null,
      "metadata": {},
      "outputs": [],
      "source": [
        "# Calculate current baseline metrics for improvement tracking\n",
        "baseline_metrics = {\n",
        "    'current_date': datetime.now().isoformat(),\n",
        "    'analysis_period_days': 30,\n",
        "    'cluster_info': {\n",
        "        'nodes': 6,\n",
        "        'masters': 3,\n",
        "        'workers': 3,\n",
        "        'cpu_cores_per_node': 8,\n",
        "        'memory_gb_per_node': 16\n",
        "    }\n",
        "}\n",
        "\n",
        "if 'cpu_usage' in node_metrics and not cpu_df.empty:\n",
        "    baseline_metrics['cpu'] = {\n",
        "        'current_avg_utilization': float(cpu_df['value'].mean()),\n",
        "        'target_utilization': 0.65,  # 65% target\n",
        "        'improvement_needed': float(cpu_df['value'].mean()) - 0.65\n",
        "    }\n",
        "\n",
        "if 'memory_usage' in node_metrics:\n",
        "    baseline_metrics['memory'] = {\n",
        "        'current_avg_utilization': float(memory_df['memory_pct'].mean() / 100),\n",
        "        'current_range': f\"{memory_df['memory_pct'].min():.1f}-{memory_df['memory_pct'].max():.1f}%\"\n",
        "    }\n",
        "\n",
        "# Save baseline for future comparison\n",
        "import json\n",
        "with open('/home/jovyan/artifacts/week2_baseline_metrics.json', 'w') as f:\n",
        "    json.dump(baseline_metrics, f, indent=2)\n",
        "\n",
        "print(\"Baseline Metrics Established:\")\n",
        "print(json.dumps(baseline_metrics, indent=2))"
      ]
    },
    {
      "cell_type": "markdown",
      "metadata": {},
      "source": [
        "## 6. Data Quality Assessment"
      ]
    },
    {
      "cell_type": "code",
      "execution_count": null,
      "metadata": {},
      "outputs": [],
      "source": [
        "# Assess data quality and completeness\n",
        "data_quality = {\n",
        "    'collection_period': f\"{start_time} to {end_time}\",\n",
        "    'metrics_collected': list(node_metrics.keys()),\n",
        "    'total_data_points': sum(len(df) for df in node_metrics.values()),\n",
        "    'data_completeness': {}\n",
        "}\n",
        "\n",
        "for metric_name, df in node_metrics.items():\n",
        "    if not df.empty:\n",
        "        missing_pct = df['value'].isna().mean() * 100\n",
        "        data_quality['data_completeness'][metric_name] = {\n",
        "            'total_points': len(df),\n",
        "            'missing_percentage': round(missing_pct, 2),\n",
        "            'quality_status': 'Good' if missing_pct < 5 else 'Poor'\n",
        "        }\n",
        "\n",
        "print(\"Data Quality Assessment:\")\n",
        "print(json.dumps(data_quality, indent=2))\n",
        "\n",
        "# Target: >95% data quality success rate\n",
        "good_quality_metrics = sum(1 for m in data_quality['data_completeness'].values() if m['quality_status'] == 'Good')\n",
        "total_metrics = len(data_quality['data_completeness'])\n",
        "quality_rate = good_quality_metrics / total_metrics * 100 if total_metrics > 0 else 0\n",
        "\n",
        "print(f\"\\nOverall Data Quality: {quality_rate:.1f}% (Target: >95%)\")\n",
        "print(f\"Status: {'✓ PASS' if quality_rate > 95 else '✗ NEEDS IMPROVEMENT'}\")"
      ]
    },
    {
      "cell_type": "markdown",
      "metadata": {},
      "source": [
        "## 7. Next Steps for Week 3\n",
        "\n",
        "Based on this analysis, prepare for:\n",
        "- Feature engineering pipeline development\n",
        "- Temporal pattern extraction\n",
        "- Node correlation analysis\n",
        "- Feast feature store setup"
      ]
    }
  ],
  "metadata": {
    "kernelspec": {
      "display_name": "Python 3",
      "language": "python",
      "name": "python3"
    },
    "language_info": {
      "codemirror_mode": {
        "name": "ipython",
        "version": 3
      },
      "file_extension": ".py",
      "mimetype": "text/x-python",
      "name": "python",
      "nbconvert_exporter": "python",
      "pygments_lexer": "ipython3",
      "version": "3.8.10"
    }
  },
  "nbformat": 4,
  "nbformat_minor": 4
}